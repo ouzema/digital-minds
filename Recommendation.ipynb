{
  "cells": [
    {
      "cell_type": "code",
      "execution_count": 2,
      "metadata": {
        "colab": {
          "base_uri": "https://localhost:8080/"
        },
        "id": "gBZ4-HWyFDc4",
        "outputId": "74f33af9-fe37-4c68-f8ee-45c0fd02a2aa"
      },
      "outputs": [
        {
          "name": "stdout",
          "output_type": "stream",
          "text": [
            "Collecting sentence-transformers\n",
            "  Downloading sentence_transformers-2.3.1-py3-none-any.whl (132 kB)\n",
            "\u001b[?25l     \u001b[90m━━━━━━━━━━━━━━━━━━━━━━━━━━━━━━━━━━━━━━━━\u001b[0m \u001b[32m0.0/132.8 kB\u001b[0m \u001b[31m?\u001b[0m eta \u001b[36m-:--:--\u001b[0m\r\u001b[2K     \u001b[91m━━━━━━━━━━━━━━━━━━━━━━━━\u001b[0m\u001b[91m╸\u001b[0m\u001b[90m━━━━━━━━━━━━━━━\u001b[0m \u001b[32m81.9/132.8 kB\u001b[0m \u001b[31m2.4 MB/s\u001b[0m eta \u001b[36m0:00:01\u001b[0m\r\u001b[2K     \u001b[90m━━━━━━━━━━━━━━━━━━━━━━━━━━━━━━━━━━━━━━━━\u001b[0m \u001b[32m132.8/132.8 kB\u001b[0m \u001b[31m2.2 MB/s\u001b[0m eta \u001b[36m0:00:00\u001b[0m\n",
            "\u001b[?25hRequirement already satisfied: transformers<5.0.0,>=4.32.0 in /usr/local/lib/python3.10/dist-packages (from sentence-transformers) (4.35.2)\n",
            "Requirement already satisfied: tqdm in /usr/local/lib/python3.10/dist-packages (from sentence-transformers) (4.66.1)\n",
            "Requirement already satisfied: torch>=1.11.0 in /usr/local/lib/python3.10/dist-packages (from sentence-transformers) (2.1.0+cu121)\n",
            "Requirement already satisfied: numpy in /usr/local/lib/python3.10/dist-packages (from sentence-transformers) (1.23.5)\n",
            "Requirement already satisfied: scikit-learn in /usr/local/lib/python3.10/dist-packages (from sentence-transformers) (1.2.2)\n",
            "Requirement already satisfied: scipy in /usr/local/lib/python3.10/dist-packages (from sentence-transformers) (1.11.4)\n",
            "Requirement already satisfied: nltk in /usr/local/lib/python3.10/dist-packages (from sentence-transformers) (3.8.1)\n",
            "Requirement already satisfied: sentencepiece in /usr/local/lib/python3.10/dist-packages (from sentence-transformers) (0.1.99)\n",
            "Requirement already satisfied: huggingface-hub>=0.15.1 in /usr/local/lib/python3.10/dist-packages (from sentence-transformers) (0.20.3)\n",
            "Requirement already satisfied: Pillow in /usr/local/lib/python3.10/dist-packages (from sentence-transformers) (9.4.0)\n",
            "Requirement already satisfied: filelock in /usr/local/lib/python3.10/dist-packages (from huggingface-hub>=0.15.1->sentence-transformers) (3.13.1)\n",
            "Requirement already satisfied: fsspec>=2023.5.0 in /usr/local/lib/python3.10/dist-packages (from huggingface-hub>=0.15.1->sentence-transformers) (2023.6.0)\n",
            "Requirement already satisfied: requests in /usr/local/lib/python3.10/dist-packages (from huggingface-hub>=0.15.1->sentence-transformers) (2.31.0)\n",
            "Requirement already satisfied: pyyaml>=5.1 in /usr/local/lib/python3.10/dist-packages (from huggingface-hub>=0.15.1->sentence-transformers) (6.0.1)\n",
            "Requirement already satisfied: typing-extensions>=3.7.4.3 in /usr/local/lib/python3.10/dist-packages (from huggingface-hub>=0.15.1->sentence-transformers) (4.5.0)\n",
            "Requirement already satisfied: packaging>=20.9 in /usr/local/lib/python3.10/dist-packages (from huggingface-hub>=0.15.1->sentence-transformers) (23.2)\n",
            "Requirement already satisfied: sympy in /usr/local/lib/python3.10/dist-packages (from torch>=1.11.0->sentence-transformers) (1.12)\n",
            "Requirement already satisfied: networkx in /usr/local/lib/python3.10/dist-packages (from torch>=1.11.0->sentence-transformers) (3.2.1)\n",
            "Requirement already satisfied: jinja2 in /usr/local/lib/python3.10/dist-packages (from torch>=1.11.0->sentence-transformers) (3.1.3)\n",
            "Requirement already satisfied: triton==2.1.0 in /usr/local/lib/python3.10/dist-packages (from torch>=1.11.0->sentence-transformers) (2.1.0)\n",
            "Requirement already satisfied: regex!=2019.12.17 in /usr/local/lib/python3.10/dist-packages (from transformers<5.0.0,>=4.32.0->sentence-transformers) (2023.12.25)\n",
            "Requirement already satisfied: tokenizers<0.19,>=0.14 in /usr/local/lib/python3.10/dist-packages (from transformers<5.0.0,>=4.32.0->sentence-transformers) (0.15.1)\n",
            "Requirement already satisfied: safetensors>=0.3.1 in /usr/local/lib/python3.10/dist-packages (from transformers<5.0.0,>=4.32.0->sentence-transformers) (0.4.2)\n",
            "Requirement already satisfied: click in /usr/local/lib/python3.10/dist-packages (from nltk->sentence-transformers) (8.1.7)\n",
            "Requirement already satisfied: joblib in /usr/local/lib/python3.10/dist-packages (from nltk->sentence-transformers) (1.3.2)\n",
            "Requirement already satisfied: threadpoolctl>=2.0.0 in /usr/local/lib/python3.10/dist-packages (from scikit-learn->sentence-transformers) (3.2.0)\n",
            "Requirement already satisfied: MarkupSafe>=2.0 in /usr/local/lib/python3.10/dist-packages (from jinja2->torch>=1.11.0->sentence-transformers) (2.1.4)\n",
            "Requirement already satisfied: charset-normalizer<4,>=2 in /usr/local/lib/python3.10/dist-packages (from requests->huggingface-hub>=0.15.1->sentence-transformers) (3.3.2)\n",
            "Requirement already satisfied: idna<4,>=2.5 in /usr/local/lib/python3.10/dist-packages (from requests->huggingface-hub>=0.15.1->sentence-transformers) (3.6)\n",
            "Requirement already satisfied: urllib3<3,>=1.21.1 in /usr/local/lib/python3.10/dist-packages (from requests->huggingface-hub>=0.15.1->sentence-transformers) (2.0.7)\n",
            "Requirement already satisfied: certifi>=2017.4.17 in /usr/local/lib/python3.10/dist-packages (from requests->huggingface-hub>=0.15.1->sentence-transformers) (2023.11.17)\n",
            "Requirement already satisfied: mpmath>=0.19 in /usr/local/lib/python3.10/dist-packages (from sympy->torch>=1.11.0->sentence-transformers) (1.3.0)\n",
            "Installing collected packages: sentence-transformers\n",
            "Successfully installed sentence-transformers-2.3.1\n",
            "Requirement already satisfied: scikit-learn in /usr/local/lib/python3.10/dist-packages (1.2.2)\n",
            "Requirement already satisfied: numpy>=1.17.3 in /usr/local/lib/python3.10/dist-packages (from scikit-learn) (1.23.5)\n",
            "Requirement already satisfied: scipy>=1.3.2 in /usr/local/lib/python3.10/dist-packages (from scikit-learn) (1.11.4)\n",
            "Requirement already satisfied: joblib>=1.1.1 in /usr/local/lib/python3.10/dist-packages (from scikit-learn) (1.3.2)\n",
            "Requirement already satisfied: threadpoolctl>=2.0.0 in /usr/local/lib/python3.10/dist-packages (from scikit-learn) (3.2.0)\n"
          ]
        }
      ],
      "source": [
        "!pip install -U sentence-transformers\n",
        "!pip install scikit-learn"
      ]
    },
    {
      "cell_type": "code",
      "execution_count": 1,
      "metadata": {
        "id": "SBMfONY0FDc6"
      },
      "outputs": [],
      "source": [
        "import warnings\n",
        "warnings.filterwarnings('ignore')\n",
        "\n",
        "import numpy as np\n",
        "from numpy.linalg import norm\n",
        "import pandas as pd\n",
        "import matplotlib.pyplot as plt\n",
        "import seaborn as sns\n",
        "%matplotlib inline\n",
        "\n",
        "from sklearn.decomposition import PCA\n",
        "from sentence_transformers import SentenceTransformer\n",
        "from sentence_transformers import util\n",
        "\n",
        "sns.set_context('notebook')\n",
        "sns.set_style('white')"
      ]
    },
    {
      "cell_type": "code",
      "execution_count": 2,
      "metadata": {
        "id": "-fYTLqIrFDc7"
      },
      "outputs": [],
      "source": [
        "def plotter(x, y, title):\n",
        "    plt.plot(x, y)\n",
        "    plt.xlabel('X')\n",
        "    plt.ylabel('Y')\n",
        "    plt.title(title)\n",
        "    plt.show()"
      ]
    },
    {
      "cell_type": "code",
      "execution_count": 3,
      "metadata": {
        "id": "MfF2DXwoFDc8"
      },
      "outputs": [],
      "source": [
        "sentences = ['This framework generates embeddings for each input sentence',\n",
        "            'Sentences are passed as a list of string.',\n",
        "            'The quick brown fox jumps over the lazy dog.']"
      ]
    },
    {
      "cell_type": "code",
      "execution_count": 4,
      "metadata": {
        "id": "pGoVpGEsFDc-"
      },
      "outputs": [],
      "source": [
        "model = SentenceTransformer('all-MiniLM-L6-v2')"
      ]
    },
    {
      "cell_type": "markdown",
      "metadata": {
        "id": "PCttkLuFFDc_"
      },
      "source": [
        "The `.encode` method of the model computes the embeddings of the sentences we pass in. The embeddings returned could be numpy arrays or tensors of **length 384**.\n"
      ]
    },
    {
      "cell_type": "code",
      "execution_count": 5,
      "metadata": {
        "colab": {
          "base_uri": "https://localhost:8080/"
        },
        "id": "_jINsT6bFDdA",
        "outputId": "74329400-2cf7-4a4a-d629-d7cb629f477e"
      },
      "outputs": [
        {
          "data": {
            "text/plain": [
              "(3, 384)"
            ]
          },
          "execution_count": 5,
          "metadata": {},
          "output_type": "execute_result"
        }
      ],
      "source": [
        "embeddings = model.encode(sentences, convert_to_numpy=True)\n",
        "embeddings.shape"
      ]
    },
    {
      "cell_type": "markdown",
      "metadata": {
        "id": "18aAjdzjFDdB"
      },
      "source": [
        "We can examine the first 50 values in the embedding vector of the first sentence:\n"
      ]
    },
    {
      "cell_type": "code",
      "execution_count": 6,
      "metadata": {
        "colab": {
          "base_uri": "https://localhost:8080/"
        },
        "id": "1ffD39_OFDdB",
        "outputId": "c4d428ae-7215-427e-cc57-373f0150026d"
      },
      "outputs": [
        {
          "data": {
            "text/plain": [
              "array([-0.01371736, -0.04285154, -0.0156286 ,  0.01405373,  0.03955377,\n",
              "        0.12179628,  0.02943341, -0.03175242,  0.03549596, -0.07931399,\n",
              "        0.01758787, -0.04043697,  0.04972593,  0.02549122, -0.07187006,\n",
              "        0.08149689,  0.00147069,  0.0479627 , -0.04503364, -0.09921747,\n",
              "       -0.02817697,  0.06450461,  0.04446705, -0.0476217 , -0.03529523,\n",
              "        0.04386718, -0.05285661,  0.00043306,  0.10192151,  0.01640722,\n",
              "        0.03269966, -0.03459867,  0.01213395,  0.07948708,  0.00458346,\n",
              "        0.01577778, -0.00968206,  0.02876257, -0.0505806 , -0.01557937,\n",
              "       -0.02879065, -0.00962281,  0.03155567,  0.0227349 ,  0.08714492,\n",
              "       -0.03850275, -0.08847184, -0.00875498, -0.02123433,  0.02089232],\n",
              "      dtype=float32)"
            ]
          },
          "execution_count": 6,
          "metadata": {},
          "output_type": "execute_result"
        }
      ],
      "source": [
        "embeddings[0][:50]"
      ]
    },
    {
      "cell_type": "markdown",
      "metadata": {
        "id": "jwbnNZjoFDdC"
      },
      "source": [
        "## SBERT for Analyzing Semantic Textual Similarity (STS)\n"
      ]
    },
    {
      "cell_type": "markdown",
      "metadata": {
        "id": "hZIHq4ImFDdD"
      },
      "source": [
        "We can calculate the similarity scores of the computed embeddings using e.g. cosine similarity to analyze the semantic relationship between sentences.\n"
      ]
    },
    {
      "cell_type": "code",
      "execution_count": 7,
      "metadata": {
        "id": "owXyx9EyFDdD"
      },
      "outputs": [],
      "source": [
        "sentences = ['The cat sits outside',\n",
        "             'A man is playing guitar',\n",
        "             'I love pasta',\n",
        "             'The new movie is awesome',\n",
        "             'The cat plays in the garden',\n",
        "             'A woman watches TV',\n",
        "             'The new movie is so great',\n",
        "             'Do you like pizza?']\n",
        "\n",
        "embeddings = model.encode(sentences, convert_to_numpy=True)"
      ]
    },
    {
      "cell_type": "markdown",
      "metadata": {
        "id": "7hcyiDWlFDdE"
      },
      "source": [
        "Let's define a function for calculating the cosine similarity score.\n"
      ]
    },
    {
      "cell_type": "markdown",
      "metadata": {
        "id": "DV97aj6RFDdE"
      },
      "source": [
        "$$ similarity = \\frac{A \\cdot B}{||A|| \\cdot ||B||} $$\n"
      ]
    },
    {
      "cell_type": "code",
      "execution_count": 8,
      "metadata": {
        "id": "-ZPmcDRGFDdF"
      },
      "outputs": [],
      "source": [
        "def cosine_similarity(a, b):\n",
        "\n",
        "    score = np.dot(a, b) / (norm(a) * norm(b))\n",
        "\n",
        "    return score"
      ]
    },
    {
      "cell_type": "markdown",
      "metadata": {
        "id": "MHziEhZ2FDdG"
      },
      "source": [
        "The `cosine_similarity` score between \"The cat sits outside\" and \"A man is playing guitar\" should be low:\n"
      ]
    },
    {
      "cell_type": "code",
      "execution_count": 9,
      "metadata": {
        "colab": {
          "base_uri": "https://localhost:8080/"
        },
        "id": "K4reZAkHFDdH",
        "outputId": "db3dd8df-1021-4c6e-b811-f538cfd27bad"
      },
      "outputs": [
        {
          "data": {
            "text/plain": [
              "0.036330383"
            ]
          },
          "execution_count": 9,
          "metadata": {},
          "output_type": "execute_result"
        }
      ],
      "source": [
        "cosine_similarity(embeddings[0], embeddings[1])"
      ]
    },
    {
      "cell_type": "markdown",
      "metadata": {
        "id": "p-HROVpfFDdJ"
      },
      "source": [
        "The `cosine_similarity` score between \"The new movie is awesome\" and \"The new movie is so great\" should be very high:\n"
      ]
    },
    {
      "cell_type": "code",
      "execution_count": 10,
      "metadata": {
        "colab": {
          "base_uri": "https://localhost:8080/"
        },
        "id": "X3CJdz5aFDdJ",
        "outputId": "5f35cbdc-4ad6-4aee-fe94-9eaf65038068"
      },
      "outputs": [
        {
          "data": {
            "text/plain": [
              "0.89390373"
            ]
          },
          "execution_count": 10,
          "metadata": {},
          "output_type": "execute_result"
        }
      ],
      "source": [
        "cosine_similarity(embeddings[3], embeddings[6])"
      ]
    },
    {
      "cell_type": "markdown",
      "metadata": {
        "id": "qnC7_FLBFDdK"
      },
      "source": [
        "We can use the utility function `cos_sim` to calculate cosine similarity scores for all sentence pairs in `sentences`. Since we have 8 sentence embeddings, the function will return a $8 \\times 8$ matrix of the scores.\n"
      ]
    },
    {
      "cell_type": "code",
      "execution_count": 11,
      "metadata": {
        "colab": {
          "base_uri": "https://localhost:8080/"
        },
        "id": "-MLBFt_MFDdL",
        "outputId": "0845dad9-a36e-4b4b-c68a-9089d9b0202c"
      },
      "outputs": [
        {
          "data": {
            "text/plain": [
              "torch.Size([8, 8])"
            ]
          },
          "execution_count": 11,
          "metadata": {},
          "output_type": "execute_result"
        }
      ],
      "source": [
        "cosine_scores = util.cos_sim(embeddings, embeddings)\n",
        "cosine_scores.shape"
      ]
    },
    {
      "cell_type": "markdown",
      "metadata": {
        "id": "mUUtcaGLFDdL"
      },
      "source": [
        "Let's create a list of the cosine scores of the unique sentence pairs. n sentence embeddings should generate $n(n-1) / 2$ pairs. Thus, 28 unique pairs in our case.\n"
      ]
    },
    {
      "cell_type": "code",
      "execution_count": 14,
      "metadata": {
        "colab": {
          "base_uri": "https://localhost:8080/"
        },
        "id": "oeXFaN8OFDdM",
        "outputId": "e811e165-ffe4-49c8-bd12-e4b1810688c5"
      },
      "outputs": [
        {
          "data": {
            "text/plain": [
              "28"
            ]
          },
          "execution_count": 14,
          "metadata": {},
          "output_type": "execute_result"
        }
      ],
      "source": [
        "pairs = []\n",
        "\n",
        "for i in range(len(cosine_scores)-1): # 0, 1, 2, 3, 4, 5, 6\n",
        "    for j in range(i+1, len(cosine_scores)): # 1-7, 2-7, 3-7, 4-7, 5-7, 6-7, 7\n",
        "        pairs.append({'index': [i,j], 'score': cosine_scores[i][j]})\n",
        "\n",
        "len(pairs)"
      ]
    },
    {
      "cell_type": "markdown",
      "metadata": {
        "id": "xjTqjAokFDdN"
      },
      "source": [
        "We sort the scores in descending order and print 3 sentence pairs with the highest cosine similarity scores.\n"
      ]
    },
    {
      "cell_type": "code",
      "execution_count": 15,
      "metadata": {
        "colab": {
          "base_uri": "https://localhost:8080/"
        },
        "id": "CvRH7VbkFDdO",
        "outputId": "78b43ffc-d80d-441d-dabd-6da91e6e38eb"
      },
      "outputs": [
        {
          "name": "stdout",
          "output_type": "stream",
          "text": [
            "The new movie is awesome | The new movie is so great \n",
            " Score: 0.89 \n",
            "\n",
            "The cat sits outside | The cat plays in the garden \n",
            " Score: 0.68 \n",
            "\n",
            "I love pasta | Do you like pizza? \n",
            " Score: 0.51 \n",
            "\n"
          ]
        }
      ],
      "source": [
        "sorted_pairs = sorted(pairs, key=lambda x: x['score'], reverse=True)\n",
        "\n",
        "for pair in sorted_pairs[0:3]:\n",
        "    i, j = pair['index']\n",
        "    print(f\"{sentences[i]} | {sentences[j]} \\n Score: {pair['score']:.2f} \\n\")"
      ]
    },
    {
      "cell_type": "markdown",
      "metadata": {
        "id": "kdHaZRBsFDdP"
      },
      "source": [
        "We can also visualize the distance between the sentences on a 2-dimensional plot. Let's apply PCA to reduce the dimensionality of the sentence embeddings.\n"
      ]
    },
    {
      "cell_type": "code",
      "execution_count": 16,
      "metadata": {
        "id": "TC-O96xNFDdP"
      },
      "outputs": [],
      "source": [
        "pca = PCA(n_components=2)\n",
        "embeddings_reduced = pca.fit_transform(embeddings)"
      ]
    },
    {
      "cell_type": "markdown",
      "metadata": {
        "id": "o0ogfAoiFDdQ"
      },
      "source": [
        "By examining the plot below, we see that for the sentences that are semantically close to each other, they appear closely on the plot as well.\n",
        "For example 'The cat sits outside','The cat plays in the garden' are near and 'I love pasta'  and   'Do you like pizza?' make up a cluster.\n"
      ]
    },
    {
      "cell_type": "code",
      "execution_count": 17,
      "metadata": {
        "colab": {
          "base_uri": "https://localhost:8080/",
          "height": 421
        },
        "id": "I8MXyMoBFDdQ",
        "outputId": "6dcc3d3b-be3a-4db8-bae1-5a30285e8aec"
      },
      "outputs": [
        {
          "data": {
            "image/png": "[encoded data removed]",
            "text/plain": [
              "<Figure size 640x480 with 1 Axes>"
            ]
          },
          "metadata": {},
          "output_type": "display_data"
        }
      ],
      "source": [
        "for coord, sentence in zip(embeddings_reduced, sentences):\n",
        "\n",
        "    plt.scatter(coord[0], coord[1])\n",
        "    plt.annotate(sentence, (coord[0], coord[1]))"
      ]
    },
    {
      "cell_type": "markdown",
      "metadata": {
        "id": "4mirG20eFDdR"
      },
      "source": [
        "## Recommendation SBERT Embeddings\n"
      ]
    },
    {
      "cell_type": "markdown",
      "metadata": {
        "id": "Z8AnB04hFDdR"
      },
      "source": [
        "In this section, we will apply SBERT on a dataset that contains the descriptions and notes of more than 8000 different Courses.  SBERT will help us translate that into sentence embeddings which can be numerically manipulated."
      ]
    },
    {
      "cell_type": "markdown",
      "metadata": {
        "id": "YO-WbPqEFDdS"
      },
      "source": [
        "### Preprocessing the Dataset\n"
      ]
    },
    {
      "cell_type": "code",
      "execution_count": 40,
      "metadata": {
        "colab": {
          "base_uri": "https://localhost:8080/",
          "height": 504
        },
        "id": "6xtSpHLkFDdT",
        "outputId": "bb732db6-ca10-454b-e04c-b9d7cd9a761b"
      },
      "outputs": [
        {
          "data": {
            "text/html": [
              "\n",
              "  <div id=\"df-e4af5dd3-6752-4d45-81af-447a714f4990\" class=\"colab-df-container\">\n",
              "    <div>\n",
              "<style scoped>\n",
              "    .dataframe tbody tr th:only-of-type {\n",
              "        vertical-align: middle;\n",
              "    }\n",
              "\n",
              "    .dataframe tbody tr th {\n",
              "        vertical-align: top;\n",
              "    }\n",
              "\n",
              "    .dataframe thead th {\n",
              "        text-align: right;\n",
              "    }\n",
              "</style>\n",
              "<table border=\"1\" class=\"dataframe\">\n",
              "  <thead>\n",
              "    <tr style=\"text-align: right;\">\n",
              "      <th></th>\n",
              "      <th>ï»¿CourseId</th>\n",
              "      <th>CourseTitle</th>\n",
              "      <th>DurationInSeconds</th>\n",
              "      <th>ReleaseDate</th>\n",
              "      <th>Description</th>\n",
              "      <th>AssessmentStatus</th>\n",
              "      <th>IsCourseRetired</th>\n",
              "    </tr>\n",
              "  </thead>\n",
              "  <tbody>\n",
              "    <tr>\n",
              "      <th>0</th>\n",
              "      <td>abts-advanced-topics</td>\n",
              "      <td>BizTalk 2006 Business Process Management</td>\n",
              "      <td>22198</td>\n",
              "      <td>2008-10-25</td>\n",
              "      <td>This course covers Business Process Management...</td>\n",
              "      <td>Live</td>\n",
              "      <td>no</td>\n",
              "    </tr>\n",
              "    <tr>\n",
              "      <th>1</th>\n",
              "      <td>abts-fundamentals</td>\n",
              "      <td>BizTalk 2006 Fundamentals</td>\n",
              "      <td>24305</td>\n",
              "      <td>2008-06-01</td>\n",
              "      <td>Despite the trend towards service-oriented arc...</td>\n",
              "      <td>Live</td>\n",
              "      <td>no</td>\n",
              "    </tr>\n",
              "    <tr>\n",
              "      <th>2</th>\n",
              "      <td>agile-team-practice-fundamentals</td>\n",
              "      <td>Agile Team Practices with Scrum</td>\n",
              "      <td>13504</td>\n",
              "      <td>2010-04-15</td>\n",
              "      <td>This course is much different than most of the...</td>\n",
              "      <td>Live</td>\n",
              "      <td>no</td>\n",
              "    </tr>\n",
              "    <tr>\n",
              "      <th>3</th>\n",
              "      <td>appsrv-fundamentals</td>\n",
              "      <td>Windows Server AppFabric Fundamentals</td>\n",
              "      <td>0</td>\n",
              "      <td>2000-01-01</td>\n",
              "      <td>NaN</td>\n",
              "      <td>None</td>\n",
              "      <td>yes</td>\n",
              "    </tr>\n",
              "    <tr>\n",
              "      <th>4</th>\n",
              "      <td>aspdotnet-advanced-topics</td>\n",
              "      <td>ASP.NET 3.5 Advanced Topics</td>\n",
              "      <td>21611</td>\n",
              "      <td>2008-12-05</td>\n",
              "      <td>This course covers more advanced topics in ASP...</td>\n",
              "      <td>Live</td>\n",
              "      <td>no</td>\n",
              "    </tr>\n",
              "  </tbody>\n",
              "</table>\n",
              "</div>\n",
              "    <div class=\"colab-df-buttons\">\n",
              "\n",
              "  <div class=\"colab-df-container\">\n",
              "    <button class=\"colab-df-convert\" onclick=\"convertToInteractive('df-e4af5dd3-6752-4d45-81af-447a714f4990')\"\n",
              "            title=\"Convert this dataframe to an interactive table.\"\n",
              "            style=\"display:none;\">\n",
              "\n",
              "  <svg xmlns=\"http://www.w3.org/2000/svg\" height=\"24px\" viewBox=\"0 -960 960 960\">\n",
              "    <path d=\"M120-120v-720h720v720H120Zm60-500h600v-160H180v160Zm220 220h160v-160H400v160Zm0 220h160v-160H400v160ZM180-400h160v-160H180v160Zm440 0h160v-160H620v160ZM180-180h160v-160H180v160Zm440 0h160v-160H620v160Z\"/>\n",
              "  </svg>\n",
              "    </button>\n",
              "\n",
              "  <style>\n",
              "    .colab-df-container {\n",
              "      display:flex;\n",
              "      gap: 12px;\n",
              "    }\n",
              "\n",
              "    .colab-df-convert {\n",
              "      background-color: #E8F0FE;\n",
              "      border: none;\n",
              "      border-radius: 50%;\n",
              "      cursor: pointer;\n",
              "      display: none;\n",
              "      fill: #1967D2;\n",
              "      height: 32px;\n",
              "      padding: 0 0 0 0;\n",
              "      width: 32px;\n",
              "    }\n",
              "\n",
              "    .colab-df-convert:hover {\n",
              "      background-color: #E2EBFA;\n",
              "      box-shadow: 0px 1px 2px rgba(60, 64, 67, 0.3), 0px 1px 3px 1px rgba(60, 64, 67, 0.15);\n",
              "      fill: #174EA6;\n",
              "    }\n",
              "\n",
              "    .colab-df-buttons div {\n",
              "      margin-bottom: 4px;\n",
              "    }\n",
              "\n",
              "    [theme=dark] .colab-df-convert {\n",
              "      background-color: #3B4455;\n",
              "      fill: #D2E3FC;\n",
              "    }\n",
              "\n",
              "    [theme=dark] .colab-df-convert:hover {\n",
              "      background-color: #434B5C;\n",
              "      box-shadow: 0px 1px 3px 1px rgba(0, 0, 0, 0.15);\n",
              "      filter: drop-shadow(0px 1px 2px rgba(0, 0, 0, 0.3));\n",
              "      fill: #FFFFFF;\n",
              "    }\n",
              "  </style>\n",
              "\n",
              "    <script>\n",
              "      const buttonEl =\n",
              "        document.querySelector('#df-e4af5dd3-6752-4d45-81af-447a714f4990 button.colab-df-convert');\n",
              "      buttonEl.style.display =\n",
              "        google.colab.kernel.accessAllowed ? 'block' : 'none';\n",
              "\n",
              "      async function convertToInteractive(key) {\n",
              "        const element = document.querySelector('#df-e4af5dd3-6752-4d45-81af-447a714f4990');\n",
              "        const dataTable =\n",
              "          await google.colab.kernel.invokeFunction('convertToInteractive',\n",
              "                                                    [key], {});\n",
              "        if (!dataTable) return;\n",
              "\n",
              "        const docLinkHtml = 'Like what you see? Visit the ' +\n",
              "          '<a target=\"_blank\" href=https://colab.research.google.com/notebooks/data_table.ipynb>data table notebook</a>'\n",
              "          + ' to learn more about interactive tables.';\n",
              "        element.innerHTML = '';\n",
              "        dataTable['output_type'] = 'display_data';\n",
              "        await google.colab.output.renderOutput(dataTable, element);\n",
              "        const docLink = document.createElement('div');\n",
              "        docLink.innerHTML = docLinkHtml;\n",
              "        element.appendChild(docLink);\n",
              "      }\n",
              "    </script>\n",
              "  </div>\n",
              "\n",
              "\n",
              "<div id=\"df-1d29bedc-58a5-43c2-9260-e8c197c3ab8f\">\n",
              "  <button class=\"colab-df-quickchart\" onclick=\"quickchart('df-1d29bedc-58a5-43c2-9260-e8c197c3ab8f')\"\n",
              "            title=\"Suggest charts\"\n",
              "            style=\"display:none;\">\n",
              "\n",
              "<svg xmlns=\"http://www.w3.org/2000/svg\" height=\"24px\"viewBox=\"0 0 24 24\"\n",
              "     width=\"24px\">\n",
              "    <g>\n",
              "        <path d=\"M19 3H5c-1.1 0-2 .9-2 2v14c0 1.1.9 2 2 2h14c1.1 0 2-.9 2-2V5c0-1.1-.9-2-2-2zM9 17H7v-7h2v7zm4 0h-2V7h2v10zm4 0h-2v-4h2v4z\"/>\n",
              "    </g>\n",
              "</svg>\n",
              "  </button>\n",
              "\n",
              "<style>\n",
              "  .colab-df-quickchart {\n",
              "      --bg-color: #E8F0FE;\n",
              "      --fill-color: #1967D2;\n",
              "      --hover-bg-color: #E2EBFA;\n",
              "      --hover-fill-color: #174EA6;\n",
              "      --disabled-fill-color: #AAA;\n",
              "      --disabled-bg-color: #DDD;\n",
              "  }\n",
              "\n",
              "  [theme=dark] .colab-df-quickchart {\n",
              "      --bg-color: #3B4455;\n",
              "      --fill-color: #D2E3FC;\n",
              "      --hover-bg-color: #434B5C;\n",
              "      --hover-fill-color: #FFFFFF;\n",
              "      --disabled-bg-color: #3B4455;\n",
              "      --disabled-fill-color: #666;\n",
              "  }\n",
              "\n",
              "  .colab-df-quickchart {\n",
              "    background-color: var(--bg-color);\n",
              "    border: none;\n",
              "    border-radius: 50%;\n",
              "    cursor: pointer;\n",
              "    display: none;\n",
              "    fill: var(--fill-color);\n",
              "    height: 32px;\n",
              "    padding: 0;\n",
              "    width: 32px;\n",
              "  }\n",
              "\n",
              "  .colab-df-quickchart:hover {\n",
              "    background-color: var(--hover-bg-color);\n",
              "    box-shadow: 0 1px 2px rgba(60, 64, 67, 0.3), 0 1px 3px 1px rgba(60, 64, 67, 0.15);\n",
              "    fill: var(--button-hover-fill-color);\n",
              "  }\n",
              "\n",
              "  .colab-df-quickchart-complete:disabled,\n",
              "  .colab-df-quickchart-complete:disabled:hover {\n",
              "    background-color: var(--disabled-bg-color);\n",
              "    fill: var(--disabled-fill-color);\n",
              "    box-shadow: none;\n",
              "  }\n",
              "\n",
              "  .colab-df-spinner {\n",
              "    border: 2px solid var(--fill-color);\n",
              "    border-color: transparent;\n",
              "    border-bottom-color: var(--fill-color);\n",
              "    animation:\n",
              "      spin 1s steps(1) infinite;\n",
              "  }\n",
              "\n",
              "  @keyframes spin {\n",
              "    0% {\n",
              "      border-color: transparent;\n",
              "      border-bottom-color: var(--fill-color);\n",
              "      border-left-color: var(--fill-color);\n",
              "    }\n",
              "    20% {\n",
              "      border-color: transparent;\n",
              "      border-left-color: var(--fill-color);\n",
              "      border-top-color: var(--fill-color);\n",
              "    }\n",
              "    30% {\n",
              "      border-color: transparent;\n",
              "      border-left-color: var(--fill-color);\n",
              "      border-top-color: var(--fill-color);\n",
              "      border-right-color: var(--fill-color);\n",
              "    }\n",
              "    40% {\n",
              "      border-color: transparent;\n",
              "      border-right-color: var(--fill-color);\n",
              "      border-top-color: var(--fill-color);\n",
              "    }\n",
              "    60% {\n",
              "      border-color: transparent;\n",
              "      border-right-color: var(--fill-color);\n",
              "    }\n",
              "    80% {\n",
              "      border-color: transparent;\n",
              "      border-right-color: var(--fill-color);\n",
              "      border-bottom-color: var(--fill-color);\n",
              "    }\n",
              "    90% {\n",
              "      border-color: transparent;\n",
              "      border-bottom-color: var(--fill-color);\n",
              "    }\n",
              "  }\n",
              "</style>\n",
              "\n",
              "  <script>\n",
              "    async function quickchart(key) {\n",
              "      const quickchartButtonEl =\n",
              "        document.querySelector('#' + key + ' button');\n",
              "      quickchartButtonEl.disabled = true;  // To prevent multiple clicks.\n",
              "      quickchartButtonEl.classList.add('colab-df-spinner');\n",
              "      try {\n",
              "        const charts = await google.colab.kernel.invokeFunction(\n",
              "            'suggestCharts', [key], {});\n",
              "      } catch (error) {\n",
              "        console.error('Error during call to suggestCharts:', error);\n",
              "      }\n",
              "      quickchartButtonEl.classList.remove('colab-df-spinner');\n",
              "      quickchartButtonEl.classList.add('colab-df-quickchart-complete');\n",
              "    }\n",
              "    (() => {\n",
              "      let quickchartButtonEl =\n",
              "        document.querySelector('#df-1d29bedc-58a5-43c2-9260-e8c197c3ab8f button');\n",
              "      quickchartButtonEl.style.display =\n",
              "        google.colab.kernel.accessAllowed ? 'block' : 'none';\n",
              "    })();\n",
              "  </script>\n",
              "</div>\n",
              "\n",
              "    </div>\n",
              "  </div>\n"
            ],
            "text/plain": [
              "                        ï»¿CourseId                               CourseTitle  \\\n",
              "0              abts-advanced-topics  BizTalk 2006 Business Process Management   \n",
              "1                 abts-fundamentals                 BizTalk 2006 Fundamentals   \n",
              "2  agile-team-practice-fundamentals           Agile Team Practices with Scrum   \n",
              "3               appsrv-fundamentals     Windows Server AppFabric Fundamentals   \n",
              "4         aspdotnet-advanced-topics               ASP.NET 3.5 Advanced Topics   \n",
              "\n",
              "   DurationInSeconds ReleaseDate  \\\n",
              "0              22198  2008-10-25   \n",
              "1              24305  2008-06-01   \n",
              "2              13504  2010-04-15   \n",
              "3                  0  2000-01-01   \n",
              "4              21611  2008-12-05   \n",
              "\n",
              "                                         Description AssessmentStatus  \\\n",
              "0  This course covers Business Process Management...             Live   \n",
              "1  Despite the trend towards service-oriented arc...             Live   \n",
              "2  This course is much different than most of the...             Live   \n",
              "3                                                NaN             None   \n",
              "4  This course covers more advanced topics in ASP...             Live   \n",
              "\n",
              "  IsCourseRetired  \n",
              "0              no  \n",
              "1              no  \n",
              "2              no  \n",
              "3             yes  \n",
              "4              no  "
            ]
          },
          "execution_count": 40,
          "metadata": {},
          "output_type": "execute_result"
        }
      ],
      "source": [
        "df = pd.read_csv(\"courses.csv\", encoding=\"unicode_escape\")\n",
        "df.head()"
      ]
    },
    {
      "cell_type": "code",
      "execution_count": 30,
      "metadata": {
        "colab": {
          "base_uri": "https://localhost:8080/"
        },
        "id": "ce_-6kaDFDdU",
        "outputId": "c30e7ddb-638d-4e52-fc25-44ecae106cb3"
      },
      "outputs": [
        {
          "data": {
            "text/plain": [
              "['BizTalk 2006 Business Process Management',\n",
              " 'BizTalk 2006 Fundamentals',\n",
              " 'Agile Team Practices with Scrum',\n",
              " 'Windows Server AppFabric Fundamentals',\n",
              " 'ASP.NET 3.5 Advanced Topics',\n",
              " 'ASP.NET Ajax Advanced Topics',\n",
              " 'ASP.NET Ajax Fundamentals',\n",
              " 'ASP.NET Ajax JavaScript and jQuery',\n",
              " 'ASP.NET 3.5 Working With Data',\n",
              " 'ASP.NET 3.5 Fundamentals']"
            ]
          },
          "execution_count": 30,
          "metadata": {},
          "output_type": "execute_result"
        }
      ],
      "source": [
        "list(df.CourseTitle[0:10])"
      ]
    },
    {
      "cell_type": "markdown",
      "metadata": {
        "id": "5PNmgUGFFDdV"
      },
      "source": [
        ":We want the text embeddings to be generated based on the **CourseTitle** column. Thus, we remove redundant columns and organize the data frame.\n"
      ]
    },
    {
      "cell_type": "code",
      "execution_count": 31,
      "metadata": {
        "colab": {
          "base_uri": "https://localhost:8080/",
          "height": 206
        },
        "id": "hGRUXZszFDdW",
        "outputId": "9d1b6402-91b6-4983-daca-60751c00bcd2"
      },
      "outputs": [
        {
          "data": {
            "text/html": [
              "\n",
              "  <div id=\"df-127a955e-2ec0-4741-ba3b-67103fbb73bf\" class=\"colab-df-container\">\n",
              "    <div>\n",
              "<style scoped>\n",
              "    .dataframe tbody tr th:only-of-type {\n",
              "        vertical-align: middle;\n",
              "    }\n",
              "\n",
              "    .dataframe tbody tr th {\n",
              "        vertical-align: top;\n",
              "    }\n",
              "\n",
              "    .dataframe thead th {\n",
              "        text-align: right;\n",
              "    }\n",
              "</style>\n",
              "<table border=\"1\" class=\"dataframe\">\n",
              "  <thead>\n",
              "    <tr style=\"text-align: right;\">\n",
              "      <th></th>\n",
              "      <th>CourseTitle</th>\n",
              "      <th>Description</th>\n",
              "    </tr>\n",
              "  </thead>\n",
              "  <tbody>\n",
              "    <tr>\n",
              "      <th>0</th>\n",
              "      <td>abts-advanced-topics - BizTalk 2006 Business P...</td>\n",
              "      <td>This course covers Business Process Management...</td>\n",
              "    </tr>\n",
              "    <tr>\n",
              "      <th>1</th>\n",
              "      <td>abts-fundamentals - BizTalk 2006 Fundamentals</td>\n",
              "      <td>Despite the trend towards service-oriented arc...</td>\n",
              "    </tr>\n",
              "    <tr>\n",
              "      <th>2</th>\n",
              "      <td>agile-team-practice-fundamentals - Agile Team ...</td>\n",
              "      <td>This course is much different than most of the...</td>\n",
              "    </tr>\n",
              "    <tr>\n",
              "      <th>3</th>\n",
              "      <td>appsrv-fundamentals - Windows Server AppFabric...</td>\n",
              "      <td>NaN</td>\n",
              "    </tr>\n",
              "    <tr>\n",
              "      <th>4</th>\n",
              "      <td>aspdotnet-advanced-topics - ASP.NET 3.5 Advanc...</td>\n",
              "      <td>This course covers more advanced topics in ASP...</td>\n",
              "    </tr>\n",
              "  </tbody>\n",
              "</table>\n",
              "</div>\n",
              "    <div class=\"colab-df-buttons\">\n",
              "\n",
              "  <div class=\"colab-df-container\">\n",
              "    <button class=\"colab-df-convert\" onclick=\"convertToInteractive('df-127a955e-2ec0-4741-ba3b-67103fbb73bf')\"\n",
              "            title=\"Convert this dataframe to an interactive table.\"\n",
              "            style=\"display:none;\">\n",
              "\n",
              "  <svg xmlns=\"http://www.w3.org/2000/svg\" height=\"24px\" viewBox=\"0 -960 960 960\">\n",
              "    <path d=\"M120-120v-720h720v720H120Zm60-500h600v-160H180v160Zm220 220h160v-160H400v160Zm0 220h160v-160H400v160ZM180-400h160v-160H180v160Zm440 0h160v-160H620v160ZM180-180h160v-160H180v160Zm440 0h160v-160H620v160Z\"/>\n",
              "  </svg>\n",
              "    </button>\n",
              "\n",
              "  <style>\n",
              "    .colab-df-container {\n",
              "      display:flex;\n",
              "      gap: 12px;\n",
              "    }\n",
              "\n",
              "    .colab-df-convert {\n",
              "      background-color: #E8F0FE;\n",
              "      border: none;\n",
              "      border-radius: 50%;\n",
              "      cursor: pointer;\n",
              "      display: none;\n",
              "      fill: #1967D2;\n",
              "      height: 32px;\n",
              "      padding: 0 0 0 0;\n",
              "      width: 32px;\n",
              "    }\n",
              "\n",
              "    .colab-df-convert:hover {\n",
              "      background-color: #E2EBFA;\n",
              "      box-shadow: 0px 1px 2px rgba(60, 64, 67, 0.3), 0px 1px 3px 1px rgba(60, 64, 67, 0.15);\n",
              "      fill: #174EA6;\n",
              "    }\n",
              "\n",
              "    .colab-df-buttons div {\n",
              "      margin-bottom: 4px;\n",
              "    }\n",
              "\n",
              "    [theme=dark] .colab-df-convert {\n",
              "      background-color: #3B4455;\n",
              "      fill: #D2E3FC;\n",
              "    }\n",
              "\n",
              "    [theme=dark] .colab-df-convert:hover {\n",
              "      background-color: #434B5C;\n",
              "      box-shadow: 0px 1px 3px 1px rgba(0, 0, 0, 0.15);\n",
              "      filter: drop-shadow(0px 1px 2px rgba(0, 0, 0, 0.3));\n",
              "      fill: #FFFFFF;\n",
              "    }\n",
              "  </style>\n",
              "\n",
              "    <script>\n",
              "      const buttonEl =\n",
              "        document.querySelector('#df-127a955e-2ec0-4741-ba3b-67103fbb73bf button.colab-df-convert');\n",
              "      buttonEl.style.display =\n",
              "        google.colab.kernel.accessAllowed ? 'block' : 'none';\n",
              "\n",
              "      async function convertToInteractive(key) {\n",
              "        const element = document.querySelector('#df-127a955e-2ec0-4741-ba3b-67103fbb73bf');\n",
              "        const dataTable =\n",
              "          await google.colab.kernel.invokeFunction('convertToInteractive',\n",
              "                                                    [key], {});\n",
              "        if (!dataTable) return;\n",
              "\n",
              "        const docLinkHtml = 'Like what you see? Visit the ' +\n",
              "          '<a target=\"_blank\" href=https://colab.research.google.com/notebooks/data_table.ipynb>data table notebook</a>'\n",
              "          + ' to learn more about interactive tables.';\n",
              "        element.innerHTML = '';\n",
              "        dataTable['output_type'] = 'display_data';\n",
              "        await google.colab.output.renderOutput(dataTable, element);\n",
              "        const docLink = document.createElement('div');\n",
              "        docLink.innerHTML = docLinkHtml;\n",
              "        element.appendChild(docLink);\n",
              "      }\n",
              "    </script>\n",
              "  </div>\n",
              "\n",
              "\n",
              "<div id=\"df-780c28d3-ef87-47c8-b3c1-e0d717591d9e\">\n",
              "  <button class=\"colab-df-quickchart\" onclick=\"quickchart('df-780c28d3-ef87-47c8-b3c1-e0d717591d9e')\"\n",
              "            title=\"Suggest charts\"\n",
              "            style=\"display:none;\">\n",
              "\n",
              "<svg xmlns=\"http://www.w3.org/2000/svg\" height=\"24px\"viewBox=\"0 0 24 24\"\n",
              "     width=\"24px\">\n",
              "    <g>\n",
              "        <path d=\"M19 3H5c-1.1 0-2 .9-2 2v14c0 1.1.9 2 2 2h14c1.1 0 2-.9 2-2V5c0-1.1-.9-2-2-2zM9 17H7v-7h2v7zm4 0h-2V7h2v10zm4 0h-2v-4h2v4z\"/>\n",
              "    </g>\n",
              "</svg>\n",
              "  </button>\n",
              "\n",
              "<style>\n",
              "  .colab-df-quickchart {\n",
              "      --bg-color: #E8F0FE;\n",
              "      --fill-color: #1967D2;\n",
              "      --hover-bg-color: #E2EBFA;\n",
              "      --hover-fill-color: #174EA6;\n",
              "      --disabled-fill-color: #AAA;\n",
              "      --disabled-bg-color: #DDD;\n",
              "  }\n",
              "\n",
              "  [theme=dark] .colab-df-quickchart {\n",
              "      --bg-color: #3B4455;\n",
              "      --fill-color: #D2E3FC;\n",
              "      --hover-bg-color: #434B5C;\n",
              "      --hover-fill-color: #FFFFFF;\n",
              "      --disabled-bg-color: #3B4455;\n",
              "      --disabled-fill-color: #666;\n",
              "  }\n",
              "\n",
              "  .colab-df-quickchart {\n",
              "    background-color: var(--bg-color);\n",
              "    border: none;\n",
              "    border-radius: 50%;\n",
              "    cursor: pointer;\n",
              "    display: none;\n",
              "    fill: var(--fill-color);\n",
              "    height: 32px;\n",
              "    padding: 0;\n",
              "    width: 32px;\n",
              "  }\n",
              "\n",
              "  .colab-df-quickchart:hover {\n",
              "    background-color: var(--hover-bg-color);\n",
              "    box-shadow: 0 1px 2px rgba(60, 64, 67, 0.3), 0 1px 3px 1px rgba(60, 64, 67, 0.15);\n",
              "    fill: var(--button-hover-fill-color);\n",
              "  }\n",
              "\n",
              "  .colab-df-quickchart-complete:disabled,\n",
              "  .colab-df-quickchart-complete:disabled:hover {\n",
              "    background-color: var(--disabled-bg-color);\n",
              "    fill: var(--disabled-fill-color);\n",
              "    box-shadow: none;\n",
              "  }\n",
              "\n",
              "  .colab-df-spinner {\n",
              "    border: 2px solid var(--fill-color);\n",
              "    border-color: transparent;\n",
              "    border-bottom-color: var(--fill-color);\n",
              "    animation:\n",
              "      spin 1s steps(1) infinite;\n",
              "  }\n",
              "\n",
              "  @keyframes spin {\n",
              "    0% {\n",
              "      border-color: transparent;\n",
              "      border-bottom-color: var(--fill-color);\n",
              "      border-left-color: var(--fill-color);\n",
              "    }\n",
              "    20% {\n",
              "      border-color: transparent;\n",
              "      border-left-color: var(--fill-color);\n",
              "      border-top-color: var(--fill-color);\n",
              "    }\n",
              "    30% {\n",
              "      border-color: transparent;\n",
              "      border-left-color: var(--fill-color);\n",
              "      border-top-color: var(--fill-color);\n",
              "      border-right-color: var(--fill-color);\n",
              "    }\n",
              "    40% {\n",
              "      border-color: transparent;\n",
              "      border-right-color: var(--fill-color);\n",
              "      border-top-color: var(--fill-color);\n",
              "    }\n",
              "    60% {\n",
              "      border-color: transparent;\n",
              "      border-right-color: var(--fill-color);\n",
              "    }\n",
              "    80% {\n",
              "      border-color: transparent;\n",
              "      border-right-color: var(--fill-color);\n",
              "      border-bottom-color: var(--fill-color);\n",
              "    }\n",
              "    90% {\n",
              "      border-color: transparent;\n",
              "      border-bottom-color: var(--fill-color);\n",
              "    }\n",
              "  }\n",
              "</style>\n",
              "\n",
              "  <script>\n",
              "    async function quickchart(key) {\n",
              "      const quickchartButtonEl =\n",
              "        document.querySelector('#' + key + ' button');\n",
              "      quickchartButtonEl.disabled = true;  // To prevent multiple clicks.\n",
              "      quickchartButtonEl.classList.add('colab-df-spinner');\n",
              "      try {\n",
              "        const charts = await google.colab.kernel.invokeFunction(\n",
              "            'suggestCharts', [key], {});\n",
              "      } catch (error) {\n",
              "        console.error('Error during call to suggestCharts:', error);\n",
              "      }\n",
              "      quickchartButtonEl.classList.remove('colab-df-spinner');\n",
              "      quickchartButtonEl.classList.add('colab-df-quickchart-complete');\n",
              "    }\n",
              "    (() => {\n",
              "      let quickchartButtonEl =\n",
              "        document.querySelector('#df-780c28d3-ef87-47c8-b3c1-e0d717591d9e button');\n",
              "      quickchartButtonEl.style.display =\n",
              "        google.colab.kernel.accessAllowed ? 'block' : 'none';\n",
              "    })();\n",
              "  </script>\n",
              "</div>\n",
              "\n",
              "    </div>\n",
              "  </div>\n"
            ],
            "text/plain": [
              "                                         CourseTitle  \\\n",
              "0  abts-advanced-topics - BizTalk 2006 Business P...   \n",
              "1      abts-fundamentals - BizTalk 2006 Fundamentals   \n",
              "2  agile-team-practice-fundamentals - Agile Team ...   \n",
              "3  appsrv-fundamentals - Windows Server AppFabric...   \n",
              "4  aspdotnet-advanced-topics - ASP.NET 3.5 Advanc...   \n",
              "\n",
              "                                         Description  \n",
              "0  This course covers Business Process Management...  \n",
              "1  Despite the trend towards service-oriented arc...  \n",
              "2  This course is much different than most of the...  \n",
              "3                                                NaN  \n",
              "4  This course covers more advanced topics in ASP...  "
            ]
          },
          "execution_count": 31,
          "metadata": {},
          "output_type": "execute_result"
        }
      ],
      "source": [
        "df.rename(columns={\"ï»¿CourseId\": \"CourseId\"}, inplace=True)\n",
        "df['CourseTitle'] = df['CourseId'] + \" - \" + df['CourseTitle']\n",
        "df.drop(labels=['DurationInSeconds', 'ReleaseDate', 'AssessmentStatus','IsCourseRetired', 'CourseId'], axis=1, inplace=True)\n",
        "df.head()"
      ]
    },
    {
      "cell_type": "markdown",
      "metadata": {
        "id": "FaTVEx5DFDdW"
      },
      "source": [
        "Check for missing values.\n"
      ]
    },
    {
      "cell_type": "code",
      "execution_count": 32,
      "metadata": {
        "colab": {
          "base_uri": "https://localhost:8080/"
        },
        "id": "7BMgek7sFDdX",
        "outputId": "4342c7cc-6193-4ff3-cea3-ab5f17a69c78"
      },
      "outputs": [
        {
          "data": {
            "text/plain": [
              "0"
            ]
          },
          "execution_count": 32,
          "metadata": {},
          "output_type": "execute_result"
        }
      ],
      "source": [
        "df.CourseTitle.isnull().sum()"
      ]
    },
    {
      "cell_type": "markdown",
      "metadata": {
        "id": "FrRXh6zNFDdZ"
      },
      "source": [
        "Drop the rows with missing values and reset the indices.\n"
      ]
    },
    {
      "cell_type": "code",
      "execution_count": 33,
      "metadata": {
        "colab": {
          "base_uri": "https://localhost:8080/"
        },
        "id": "Z0VJToVpFDdZ",
        "outputId": "a97a766d-dd1e-40fd-ab93-bcd63bfc1a30"
      },
      "outputs": [
        {
          "data": {
            "text/plain": [
              "(995, 2)"
            ]
          },
          "execution_count": 33,
          "metadata": {},
          "output_type": "execute_result"
        }
      ],
      "source": [
        "\n",
        "df=df[0:1000]\n",
        "df.dropna(inplace = True)\n",
        "df.reset_index(inplace=True, drop = True)\n",
        "df.shape"
      ]
    },
    {
      "cell_type": "markdown",
      "metadata": {
        "id": "hvTvCM0bFDdb"
      },
      "source": [
        "After the preprocessing, we now have 995 perfumes in the data frame.\n",
        "After trying to run with the complete dataset of over 8000 lines we faced resource and run time issues so we down sized to 1000 to be able to experiment and validate the model\n",
        "\n"
      ]
    },
    {
      "cell_type": "markdown",
      "metadata": {
        "id": "ZZUcGG1CFDdd"
      },
      "source": [
        "### Creating Embeddings\n"
      ]
    },
    {
      "cell_type": "markdown",
      "metadata": {
        "id": "EFOSLJz6FDde"
      },
      "source": [
        "Let's start by putting the titles into a list.\n"
      ]
    },
    {
      "cell_type": "code",
      "execution_count": 34,
      "metadata": {
        "colab": {
          "base_uri": "https://localhost:8080/"
        },
        "id": "VzSfnJ3GFDde",
        "outputId": "50e105db-202c-42e9-be0e-dca861f8ab82"
      },
      "outputs": [
        {
          "data": {
            "text/plain": [
              "995"
            ]
          },
          "execution_count": 34,
          "metadata": {},
          "output_type": "execute_result"
        }
      ],
      "source": [
        "df.CourseTitle = df.CourseTitle.apply(lambda x: str(x))\n",
        "notes = df.CourseTitle.to_list()\n",
        "len(notes)"
      ]
    },
    {
      "cell_type": "markdown",
      "metadata": {
        "id": "_TeZr3kjFDdf"
      },
      "source": [
        "We use the `all-MiniLM-L6-v2` pre-trained SBERT model to generate the sentence embeddings of the perfume notes.\n"
      ]
    },
    {
      "cell_type": "code",
      "execution_count": 35,
      "metadata": {
        "colab": {
          "base_uri": "https://localhost:8080/",
          "height": 49,
          "referenced_widgets": [
            "4dabb2aabd8a46f49cb053c9299e8ce0",
            "7d4671db28ad4fcd8f404faa03f2281e",
            "5a53014020db4ce2a564b23617124c2c",
            "db5c00dc10ec493ca319ad5f595b6890",
            "c5994f77327942c1b61a62403bd76ceb",
            "e9861e273ad740939e53a55099179642",
            "5f553f21393d4b46b16f32d997296947",
            "3a32bb00278a4a08a6de3656f3761791",
            "a960f9a15f8543bbba280fad45c2c532",
            "72449852aaed48b1bc5929ef4d223983",
            "ca752c8223f644d5957d4148bd9424a8"
          ]
        },
        "id": "L04gVIHSFDdg",
        "outputId": "f25b1413-6103-4cbf-b76c-2b17ac880769"
      },
      "outputs": [
        {
          "data": {
            "application/vnd.jupyter.widget-view+json": {
              "model_id": "4dabb2aabd8a46f49cb053c9299e8ce0",
              "version_major": 2,
              "version_minor": 0
            },
            "text/plain": [
              "Batches:   0%|          | 0/16 [00:00<?, ?it/s]"
            ]
          },
          "metadata": {},
          "output_type": "display_data"
        }
      ],
      "source": [
        "model = SentenceTransformer('all-MiniLM-L6-v2')\n",
        "\n",
        "note_embeddings = model.encode(notes, show_progress_bar=True, batch_size=64)"
      ]
    },
    {
      "cell_type": "markdown",
      "metadata": {
        "id": "p01iCs2HFDdh"
      },
      "source": [
        "We check that each generated note embedding has length 384.\n"
      ]
    },
    {
      "cell_type": "code",
      "execution_count": 41,
      "metadata": {
        "colab": {
          "base_uri": "https://localhost:8080/"
        },
        "id": "js14L-zlFDdh",
        "outputId": "8a18b1d7-7d35-4121-dee5-a19b3b445a1f"
      },
      "outputs": [
        {
          "name": "stdout",
          "output_type": "stream",
          "text": [
            "(995, 384)\n",
            "[-0.01515076 -0.00695352 -0.01890821 -0.01249928 -0.04343986 -0.00070237\n",
            "  0.10794567  0.03372328 -0.01546355  0.04150046 -0.0852464   0.03584457\n",
            "  0.00471251 -0.00476881  0.04159798  0.06578822  0.06985239 -0.11378729\n",
            " -0.00340471 -0.02320818  0.0049405   0.03169927 -0.00892626  0.03950895\n",
            " -0.11411214 -0.04867205  0.02858972  0.01898314  0.05028529 -0.0444911\n",
            "  0.00053417  0.12408435  0.06621706  0.02066118  0.01624344  0.01723964\n",
            "  0.00520709  0.00082156  0.03627277 -0.00100756  0.01556972  0.00550248\n",
            " -0.05762155 -0.0315439   0.02598387 -0.03683918 -0.08893823 -0.05827235\n",
            " -0.10143003  0.06551579]\n"
          ]
        }
      ],
      "source": [
        "print(note_embeddings.shape)\n",
        "\n",
        "print(note_embeddings[0][:50]) # first 50 values in the embedding"
      ]
    },
    {
      "cell_type": "markdown",
      "metadata": {
        "id": "dtydtHVCFDdi"
      },
      "source": [
        "### Recommendation using Cosine Similarity\n"
      ]
    },
    {
      "cell_type": "markdown",
      "metadata": {
        "id": "jgSSFKiBFDdj"
      },
      "source": [
        "We calculate the cosine similarity scores for all the pairs of perfume note embeddings.\n"
      ]
    },
    {
      "cell_type": "code",
      "execution_count": 37,
      "metadata": {
        "colab": {
          "base_uri": "https://localhost:8080/"
        },
        "id": "SZFuGWdZFDdj",
        "outputId": "8c21e30b-a461-42dd-c856-e4aad413353d"
      },
      "outputs": [
        {
          "data": {
            "text/plain": [
              "torch.Size([995, 995])"
            ]
          },
          "execution_count": 37,
          "metadata": {},
          "output_type": "execute_result"
        }
      ],
      "source": [
        "cosine_scores = util.cos_sim(note_embeddings, note_embeddings)\n",
        "cosine_scores.shape"
      ]
    },
    {
      "cell_type": "markdown",
      "metadata": {
        "id": "lx_XVQHXFDdk"
      },
      "source": [
        "Sorting the scores in descending order and appending the (index, score) pair to `pairs`.\n"
      ]
    },
    {
      "cell_type": "code",
      "execution_count": 38,
      "metadata": {
        "colab": {
          "base_uri": "https://localhost:8080/"
        },
        "id": "-paXb5L2FDdk",
        "outputId": "8f8bcc7e-863f-4562-c8d5-940025e204ae"
      },
      "outputs": [
        {
          "data": {
            "text/plain": [
              "494515"
            ]
          },
          "execution_count": 38,
          "metadata": {},
          "output_type": "execute_result"
        }
      ],
      "source": [
        "pairs = []\n",
        "\n",
        "for i in range(len(cosine_scores)-1):\n",
        "    for j in range(i+1, len(cosine_scores)):\n",
        "        pairs.append({\"index\": [i,j], \"score\": cosine_scores[i][j]})\n",
        "\n",
        "len(pairs)"
      ]
    },
    {
      "cell_type": "code",
      "execution_count": 39,
      "metadata": {
        "colab": {
          "base_uri": "https://localhost:8080/"
        },
        "id": "LKNv0J4CFDdm",
        "outputId": "33a42045-a3a7-4a2d-cecd-9855fbfe4bd0"
      },
      "outputs": [
        {
          "name": "stdout",
          "output_type": "stream",
          "text": [
            "adv-win-debug-part-1 - Advanced Windows Debugging - Part 1 | adv-win-debug-part-2 - Advanced Windows Debugging - Part 2 \n",
            " Score: 1.00 \n",
            "\n",
            "vs2012-intro-part1 - Introduction to Visual Studio 2012 - Part 1 | vs2012-intro-part2 - Introduction to Visual Studio 2012 - Part 2 \n",
            " Score: 0.99 \n",
            "\n",
            "mastering-java-swing-part1 - Mastering Java Swing - Part 1 | mastering-java-swing-part2 - Mastering Java Swing - Part 2 \n",
            " Score: 0.99 \n",
            "\n",
            "mastering-java-swing-part2 - Mastering Java Swing - Part 2 | mastering-java-swing-part4 - Mastering Java Swing - Part 4 \n",
            " Score: 0.99 \n",
            "\n",
            "cpt-sp2007-dev-ramp-part1 - SharePoint 2007 Developer Ramp-Up - Part 1 | cpt-sp2007-dev-ramp-part2 - SharePoint 2007 Developer Ramp-Up - Part 2 \n",
            " Score: 0.99 \n",
            "\n",
            "mastering-java-swing-part3 - Mastering Java Swing - Part 3 | mastering-java-swing-part4 - Mastering Java Swing - Part 4 \n",
            " Score: 0.99 \n",
            "\n",
            "mastering-java-swing-part1 - Mastering Java Swing - Part 1 | mastering-java-swing-part4 - Mastering Java Swing - Part 4 \n",
            " Score: 0.99 \n",
            "\n",
            "mastering-java-swing-part2 - Mastering Java Swing - Part 2 | mastering-java-swing-part3 - Mastering Java Swing - Part 3 \n",
            " Score: 0.99 \n",
            "\n",
            "dynamics-crm-developer-part1 - Dynamics CRM Developer - Part 1 | dynamics-crm-developer-part2 - Dynamics CRM Developer - Part 2 \n",
            " Score: 0.99 \n",
            "\n",
            "cpt-sp2007-dev-ramp-part1 - SharePoint 2007 Developer Ramp-Up - Part 1 | cpt-sp2007-dev-ramp-part7 - SharePoint 2007 Developer Ramp-Up - Part 7 \n",
            " Score: 0.99 \n",
            "\n"
          ]
        }
      ],
      "source": [
        "sorted_pairs = sorted(pairs, key=lambda x: x['score'], reverse=True)\n",
        "\n",
        "for pair in sorted_pairs[0:10]:\n",
        "    i, j = pair['index']\n",
        "    print(f\"{df.iloc[i, 0]} | {df.iloc[j, 0]} \\n Score: {pair['score']:.2f} \\n\")"
      ]
    }
  ],
  "metadata": {
    "colab": {
      "provenance": []
    },
    "kernelspec": {
      "display_name": "Python",
      "language": "python",
      "name": "conda-env-python-py"
    },
    "language_info": {
      "codemirror_mode": {
        "name": "ipython",
        "version": 3
      },
      "file_extension": ".py",
      "mimetype": "text/x-python",
      "name": "python",
      "nbconvert_exporter": "python",
      "pygments_lexer": "ipython3",
      "version": "3.7.12"
    },
    "widgets": {
      "application/vnd.jupyter.widget-state+json": {
        "3a32bb00278a4a08a6de3656f3761791": {
          "model_module": "@jupyter-widgets/base",
          "model_module_version": "1.2.0",
          "model_name": "LayoutModel",
          "state": {
            "_model_module": "@jupyter-widgets/base",
            "_model_module_version": "1.2.0",
            "_model_name": "LayoutModel",
            "_view_count": null,
            "_view_module": "@jupyter-widgets/base",
            "_view_module_version": "1.2.0",
            "_view_name": "LayoutView",
            "align_content": null,
            "align_items": null,
            "align_self": null,
            "border": null,
            "bottom": null,
            "display": null,
            "flex": null,
            "flex_flow": null,
            "grid_area": null,
            "grid_auto_columns": null,
            "grid_auto_flow": null,
            "grid_auto_rows": null,
            "grid_column": null,
            "grid_gap": null,
            "grid_row": null,
            "grid_template_areas": null,
            "grid_template_columns": null,
            "grid_template_rows": null,
            "height": null,
            "justify_content": null,
            "justify_items": null,
            "left": null,
            "margin": null,
            "max_height": null,
            "max_width": null,
            "min_height": null,
            "min_width": null,
            "object_fit": null,
            "object_position": null,
            "order": null,
            "overflow": null,
            "overflow_x": null,
            "overflow_y": null,
            "padding": null,
            "right": null,
            "top": null,
            "visibility": null,
            "width": null
          }
        },
        "4dabb2aabd8a46f49cb053c9299e8ce0": {
          "model_module": "@jupyter-widgets/controls",
          "model_module_version": "1.5.0",
          "model_name": "HBoxModel",
          "state": {
            "_dom_classes": [],
            "_model_module": "@jupyter-widgets/controls",
            "_model_module_version": "1.5.0",
            "_model_name": "HBoxModel",
            "_view_count": null,
            "_view_module": "@jupyter-widgets/controls",
            "_view_module_version": "1.5.0",
            "_view_name": "HBoxView",
            "box_style": "",
            "children": [
              "IPY_MODEL_7d4671db28ad4fcd8f404faa03f2281e",
              "IPY_MODEL_5a53014020db4ce2a564b23617124c2c",
              "IPY_MODEL_db5c00dc10ec493ca319ad5f595b6890"
            ],
            "layout": "IPY_MODEL_c5994f77327942c1b61a62403bd76ceb"
          }
        },
        "5a53014020db4ce2a564b23617124c2c": {
          "model_module": "@jupyter-widgets/controls",
          "model_module_version": "1.5.0",
          "model_name": "FloatProgressModel",
          "state": {
            "_dom_classes": [],
            "_model_module": "@jupyter-widgets/controls",
            "_model_module_version": "1.5.0",
            "_model_name": "FloatProgressModel",
            "_view_count": null,
            "_view_module": "@jupyter-widgets/controls",
            "_view_module_version": "1.5.0",
            "_view_name": "ProgressView",
            "bar_style": "success",
            "description": "",
            "description_tooltip": null,
            "layout": "IPY_MODEL_3a32bb00278a4a08a6de3656f3761791",
            "max": 16,
            "min": 0,
            "orientation": "horizontal",
            "style": "IPY_MODEL_a960f9a15f8543bbba280fad45c2c532",
            "value": 16
          }
        },
        "5f553f21393d4b46b16f32d997296947": {
          "model_module": "@jupyter-widgets/controls",
          "model_module_version": "1.5.0",
          "model_name": "DescriptionStyleModel",
          "state": {
            "_model_module": "@jupyter-widgets/controls",
            "_model_module_version": "1.5.0",
            "_model_name": "DescriptionStyleModel",
            "_view_count": null,
            "_view_module": "@jupyter-widgets/base",
            "_view_module_version": "1.2.0",
            "_view_name": "StyleView",
            "description_width": ""
          }
        },
        "72449852aaed48b1bc5929ef4d223983": {
          "model_module": "@jupyter-widgets/base",
          "model_module_version": "1.2.0",
          "model_name": "LayoutModel",
          "state": {
            "_model_module": "@jupyter-widgets/base",
            "_model_module_version": "1.2.0",
            "_model_name": "LayoutModel",
            "_view_count": null,
            "_view_module": "@jupyter-widgets/base",
            "_view_module_version": "1.2.0",
            "_view_name": "LayoutView",
            "align_content": null,
            "align_items": null,
            "align_self": null,
            "border": null,
            "bottom": null,
            "display": null,
            "flex": null,
            "flex_flow": null,
            "grid_area": null,
            "grid_auto_columns": null,
            "grid_auto_flow": null,
            "grid_auto_rows": null,
            "grid_column": null,
            "grid_gap": null,
            "grid_row": null,
            "grid_template_areas": null,
            "grid_template_columns": null,
            "grid_template_rows": null,
            "height": null,
            "justify_content": null,
            "justify_items": null,
            "left": null,
            "margin": null,
            "max_height": null,
            "max_width": null,
            "min_height": null,
            "min_width": null,
            "object_fit": null,
            "object_position": null,
            "order": null,
            "overflow": null,
            "overflow_x": null,
            "overflow_y": null,
            "padding": null,
            "right": null,
            "top": null,
            "visibility": null,
            "width": null
          }
        },
        "7d4671db28ad4fcd8f404faa03f2281e": {
          "model_module": "@jupyter-widgets/controls",
          "model_module_version": "1.5.0",
          "model_name": "HTMLModel",
          "state": {
            "_dom_classes": [],
            "_model_module": "@jupyter-widgets/controls",
            "_model_module_version": "1.5.0",
            "_model_name": "HTMLModel",
            "_view_count": null,
            "_view_module": "@jupyter-widgets/controls",
            "_view_module_version": "1.5.0",
            "_view_name": "HTMLView",
            "description": "",
            "description_tooltip": null,
            "layout": "IPY_MODEL_e9861e273ad740939e53a55099179642",
            "placeholder": "​",
            "style": "IPY_MODEL_5f553f21393d4b46b16f32d997296947",
            "value": "Batches: 100%"
          }
        },
        "a960f9a15f8543bbba280fad45c2c532": {
          "model_module": "@jupyter-widgets/controls",
          "model_module_version": "1.5.0",
          "model_name": "ProgressStyleModel",
          "state": {
            "_model_module": "@jupyter-widgets/controls",
            "_model_module_version": "1.5.0",
            "_model_name": "ProgressStyleModel",
            "_view_count": null,
            "_view_module": "@jupyter-widgets/base",
            "_view_module_version": "1.2.0",
            "_view_name": "StyleView",
            "bar_color": null,
            "description_width": ""
          }
        },
        "c5994f77327942c1b61a62403bd76ceb": {
          "model_module": "@jupyter-widgets/base",
          "model_module_version": "1.2.0",
          "model_name": "LayoutModel",
          "state": {
            "_model_module": "@jupyter-widgets/base",
            "_model_module_version": "1.2.0",
            "_model_name": "LayoutModel",
            "_view_count": null,
            "_view_module": "@jupyter-widgets/base",
            "_view_module_version": "1.2.0",
            "_view_name": "LayoutView",
            "align_content": null,
            "align_items": null,
            "align_self": null,
            "border": null,
            "bottom": null,
            "display": null,
            "flex": null,
            "flex_flow": null,
            "grid_area": null,
            "grid_auto_columns": null,
            "grid_auto_flow": null,
            "grid_auto_rows": null,
            "grid_column": null,
            "grid_gap": null,
            "grid_row": null,
            "grid_template_areas": null,
            "grid_template_columns": null,
            "grid_template_rows": null,
            "height": null,
            "justify_content": null,
            "justify_items": null,
            "left": null,
            "margin": null,
            "max_height": null,
            "max_width": null,
            "min_height": null,
            "min_width": null,
            "object_fit": null,
            "object_position": null,
            "order": null,
            "overflow": null,
            "overflow_x": null,
            "overflow_y": null,
            "padding": null,
            "right": null,
            "top": null,
            "visibility": null,
            "width": null
          }
        },
        "ca752c8223f644d5957d4148bd9424a8": {
          "model_module": "@jupyter-widgets/controls",
          "model_module_version": "1.5.0",
          "model_name": "DescriptionStyleModel",
          "state": {
            "_model_module": "@jupyter-widgets/controls",
            "_model_module_version": "1.5.0",
            "_model_name": "DescriptionStyleModel",
            "_view_count": null,
            "_view_module": "@jupyter-widgets/base",
            "_view_module_version": "1.2.0",
            "_view_name": "StyleView",
            "description_width": ""
          }
        },
        "db5c00dc10ec493ca319ad5f595b6890": {
          "model_module": "@jupyter-widgets/controls",
          "model_module_version": "1.5.0",
          "model_name": "HTMLModel",
          "state": {
            "_dom_classes": [],
            "_model_module": "@jupyter-widgets/controls",
            "_model_module_version": "1.5.0",
            "_model_name": "HTMLModel",
            "_view_count": null,
            "_view_module": "@jupyter-widgets/controls",
            "_view_module_version": "1.5.0",
            "_view_name": "HTMLView",
            "description": "",
            "description_tooltip": null,
            "layout": "IPY_MODEL_72449852aaed48b1bc5929ef4d223983",
            "placeholder": "​",
            "style": "IPY_MODEL_ca752c8223f644d5957d4148bd9424a8",
            "value": " 16/16 [00:15&lt;00:00,  1.75it/s]"
          }
        },
        "e9861e273ad740939e53a55099179642": {
          "model_module": "@jupyter-widgets/base",
          "model_module_version": "1.2.0",
          "model_name": "LayoutModel",
          "state": {
            "_model_module": "@jupyter-widgets/base",
            "_model_module_version": "1.2.0",
            "_model_name": "LayoutModel",
            "_view_count": null,
            "_view_module": "@jupyter-widgets/base",
            "_view_module_version": "1.2.0",
            "_view_name": "LayoutView",
            "align_content": null,
            "align_items": null,
            "align_self": null,
            "border": null,
            "bottom": null,
            "display": null,
            "flex": null,
            "flex_flow": null,
            "grid_area": null,
            "grid_auto_columns": null,
            "grid_auto_flow": null,
            "grid_auto_rows": null,
            "grid_column": null,
            "grid_gap": null,
            "grid_row": null,
            "grid_template_areas": null,
            "grid_template_columns": null,
            "grid_template_rows": null,
            "height": null,
            "justify_content": null,
            "justify_items": null,
            "left": null,
            "margin": null,
            "max_height": null,
            "max_width": null,
            "min_height": null,
            "min_width": null,
            "object_fit": null,
            "object_position": null,
            "order": null,
            "overflow": null,
            "overflow_x": null,
            "overflow_y": null,
            "padding": null,
            "right": null,
            "top": null,
            "visibility": null,
            "width": null
          }
        }
      }
    }
  },
  "nbformat": 4,
  "nbformat_minor": 0
}
